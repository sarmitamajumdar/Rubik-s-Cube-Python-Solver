{
 "cells": [
  {
   "cell_type": "code",
   "execution_count": 1,
   "id": "1032b918-3239-4871-b9c5-ed79559fa57b",
   "metadata": {},
   "outputs": [
    {
     "name": "stdout",
     "output_type": "stream",
     "text": [
      "Requirement already satisfied: pycuber in c:\\users\\sarmita\\anaconda3\\lib\\site-packages (0.2.2)\n",
      "Collecting kociemba\n",
      "  Downloading kociemba-1.2.1.tar.gz (6.6 MB)\n",
      "     ---------------------------------------- 0.0/6.6 MB ? eta -:--:--\n",
      "     ---------------------------------------- 0.0/6.6 MB 991.0 kB/s eta 0:00:07\n",
      "     - -------------------------------------- 0.3/6.6 MB 2.6 MB/s eta 0:00:03\n",
      "     -- ------------------------------------- 0.5/6.6 MB 3.3 MB/s eta 0:00:02\n",
      "     ---- ----------------------------------- 0.8/6.6 MB 4.1 MB/s eta 0:00:02\n",
      "     ------ --------------------------------- 1.0/6.6 MB 4.7 MB/s eta 0:00:02\n",
      "     ------ --------------------------------- 1.0/6.6 MB 4.7 MB/s eta 0:00:02\n",
      "     ------ --------------------------------- 1.0/6.6 MB 4.7 MB/s eta 0:00:02\n",
      "     ------ --------------------------------- 1.0/6.6 MB 4.7 MB/s eta 0:00:02\n",
      "     ------ --------------------------------- 1.0/6.6 MB 4.7 MB/s eta 0:00:02\n",
      "     ------ --------------------------------- 1.0/6.6 MB 4.7 MB/s eta 0:00:02\n",
      "     ------ --------------------------------- 1.0/6.6 MB 4.7 MB/s eta 0:00:02\n",
      "     ------ --------------------------------- 1.0/6.6 MB 4.7 MB/s eta 0:00:02\n",
      "     ------ --------------------------------- 1.0/6.6 MB 4.7 MB/s eta 0:00:02\n",
      "     ------ --------------------------------- 1.0/6.6 MB 4.7 MB/s eta 0:00:02\n",
      "     ------ --------------------------------- 1.1/6.6 MB 1.6 MB/s eta 0:00:04\n",
      "     -------- ------------------------------- 1.4/6.6 MB 2.0 MB/s eta 0:00:03\n",
      "     ---------- ----------------------------- 1.7/6.6 MB 2.2 MB/s eta 0:00:03\n",
      "     ------------ --------------------------- 2.1/6.6 MB 2.6 MB/s eta 0:00:02\n",
      "     ------------ --------------------------- 2.1/6.6 MB 2.6 MB/s eta 0:00:02\n",
      "     ------------ --------------------------- 2.1/6.6 MB 2.6 MB/s eta 0:00:02\n",
      "     ------------ --------------------------- 2.1/6.6 MB 2.6 MB/s eta 0:00:02\n",
      "     ------------ --------------------------- 2.1/6.6 MB 2.6 MB/s eta 0:00:02\n",
      "     ------------ --------------------------- 2.1/6.6 MB 2.6 MB/s eta 0:00:02\n",
      "     ------------ --------------------------- 2.1/6.6 MB 2.6 MB/s eta 0:00:02\n",
      "     ------------ --------------------------- 2.1/6.6 MB 2.6 MB/s eta 0:00:02\n",
      "     -------------- ------------------------- 2.3/6.6 MB 2.0 MB/s eta 0:00:03\n",
      "     ---------------- ----------------------- 2.7/6.6 MB 2.2 MB/s eta 0:00:02\n",
      "     ------------------- -------------------- 3.1/6.6 MB 2.4 MB/s eta 0:00:02\n",
      "     ------------------- -------------------- 3.1/6.6 MB 2.4 MB/s eta 0:00:02\n",
      "     ------------------- -------------------- 3.1/6.6 MB 2.4 MB/s eta 0:00:02\n",
      "     ------------------- -------------------- 3.1/6.6 MB 2.4 MB/s eta 0:00:02\n",
      "     ------------------- -------------------- 3.1/6.6 MB 2.4 MB/s eta 0:00:02\n",
      "     ------------------- -------------------- 3.1/6.6 MB 2.4 MB/s eta 0:00:02\n",
      "     ------------------- -------------------- 3.1/6.6 MB 2.4 MB/s eta 0:00:02\n",
      "     --------------------- ------------------ 3.5/6.6 MB 2.2 MB/s eta 0:00:02\n",
      "     ----------------------- ---------------- 3.9/6.6 MB 2.4 MB/s eta 0:00:02\n",
      "     ------------------------- -------------- 4.2/6.6 MB 2.5 MB/s eta 0:00:01\n",
      "     ------------------------- -------------- 4.2/6.6 MB 2.5 MB/s eta 0:00:01\n",
      "     ------------------------- -------------- 4.2/6.6 MB 2.5 MB/s eta 0:00:01\n",
      "     ------------------------- -------------- 4.2/6.6 MB 2.5 MB/s eta 0:00:01\n",
      "     ------------------------- -------------- 4.2/6.6 MB 2.5 MB/s eta 0:00:01\n",
      "     ------------------------- -------------- 4.2/6.6 MB 2.5 MB/s eta 0:00:01\n",
      "     ------------------------- -------------- 4.2/6.6 MB 2.5 MB/s eta 0:00:01\n",
      "     --------------------------- ------------ 4.5/6.6 MB 2.3 MB/s eta 0:00:01\n",
      "     ----------------------------- ---------- 4.8/6.6 MB 2.4 MB/s eta 0:00:01\n",
      "     ------------------------------- -------- 5.2/6.6 MB 2.5 MB/s eta 0:00:01\n",
      "     ------------------------------- -------- 5.2/6.6 MB 2.5 MB/s eta 0:00:01\n",
      "     ------------------------------- -------- 5.2/6.6 MB 2.5 MB/s eta 0:00:01\n",
      "     ------------------------------- -------- 5.2/6.6 MB 2.5 MB/s eta 0:00:01\n",
      "     ------------------------------- -------- 5.2/6.6 MB 2.5 MB/s eta 0:00:01\n",
      "     ------------------------------- -------- 5.2/6.6 MB 2.5 MB/s eta 0:00:01\n",
      "     -------------------------------- ------- 5.4/6.6 MB 2.3 MB/s eta 0:00:01\n",
      "     ---------------------------------- ----- 5.7/6.6 MB 2.4 MB/s eta 0:00:01\n",
      "     ------------------------------------ --- 6.0/6.6 MB 2.4 MB/s eta 0:00:01\n",
      "     -------------------------------------- - 6.3/6.6 MB 2.5 MB/s eta 0:00:01\n",
      "     -------------------------------------- - 6.3/6.6 MB 2.5 MB/s eta 0:00:01\n",
      "     -------------------------------------- - 6.3/6.6 MB 2.5 MB/s eta 0:00:01\n",
      "     -------------------------------------- - 6.3/6.6 MB 2.5 MB/s eta 0:00:01\n",
      "     -------------------------------------- - 6.3/6.6 MB 2.5 MB/s eta 0:00:01\n",
      "     ---------------------------------------  6.5/6.6 MB 2.4 MB/s eta 0:00:01\n",
      "     ---------------------------------------- 6.6/6.6 MB 2.4 MB/s eta 0:00:00\n",
      "  Preparing metadata (setup.py): started\n",
      "  Preparing metadata (setup.py): finished with status 'done'\n",
      "Requirement already satisfied: plotly in c:\\users\\sarmita\\anaconda3\\lib\\site-packages (5.9.0)\n",
      "Requirement already satisfied: cffi>=1.0.0 in c:\\users\\sarmita\\anaconda3\\lib\\site-packages (from kociemba) (1.16.0)\n",
      "Requirement already satisfied: future in c:\\users\\sarmita\\anaconda3\\lib\\site-packages (from kociemba) (0.16.0)\n",
      "Requirement already satisfied: tenacity>=6.2.0 in c:\\users\\sarmita\\anaconda3\\lib\\site-packages (from plotly) (8.2.2)\n",
      "Requirement already satisfied: pycparser in c:\\users\\sarmita\\anaconda3\\lib\\site-packages (from cffi>=1.0.0->kociemba) (2.21)\n",
      "Building wheels for collected packages: kociemba\n",
      "  Building wheel for kociemba (setup.py): started\n",
      "  Building wheel for kociemba (setup.py): finished with status 'done'\n",
      "  Created wheel for kociemba: filename=kociemba-1.2.1-cp311-cp311-win_amd64.whl size=6758413 sha256=027be59c329cb1579e2b17bcb0028cb992f834eadd2bfc8c26b7b0800e61d1ba\n",
      "  Stored in directory: c:\\users\\sarmita\\appdata\\local\\pip\\cache\\wheels\\6c\\51\\2f\\f3b8548d55efe500bd3b8880b0c59e7c59d0bf765c5676c036\n",
      "Successfully built kociemba\n",
      "Installing collected packages: kociemba\n",
      "Successfully installed kociemba-1.2.1\n",
      "Note: you may need to restart the kernel to use updated packages.\n"
     ]
    },
    {
     "name": "stderr",
     "output_type": "stream",
     "text": [
      "WARNING: There was an error checking the latest version of pip.\n"
     ]
    }
   ],
   "source": [
    "pip install pycuber kociemba plotly\n"
   ]
  },
  {
   "cell_type": "code",
   "execution_count": 5,
   "id": "26b40f7b-5592-4572-bdd1-8e25f7e36e9c",
   "metadata": {},
   "outputs": [],
   "source": [
    "import pycuber as pc\n",
    "import kociemba\n",
    "import plotly.graph_objects as go\n",
    "\n",
    "# Convert pycuber cube to valid Kociemba string\n",
    "def cube_to_kociemba_string(cube: pc.Cube) -> str:\n",
    "    \"\"\"\n",
    "    Convert pycuber.Cube into a valid 54-char string for kociemba.\n",
    "    Maps sticker colors -> URFDLB face labels.\n",
    "    \"\"\"\n",
    "    color_to_face = {\n",
    "        'w': 'U',\n",
    "        'r': 'R',\n",
    "        'g': 'F',\n",
    "        'y': 'D',\n",
    "        'o': 'L',\n",
    "        'b': 'B'\n",
    "    }\n",
    "    order = ['U','R','F','D','L','B']\n",
    "    faces = []\n",
    "    for face in order:\n",
    "        f = cube.get_face(face)\n",
    "        for r in range(3):\n",
    "            for c in range(3):\n",
    "                sticker = str(f[r][c])   # e.g. \"[y]\"\n",
    "                color = sticker.strip(\"[]\")  # -> \"y\"\n",
    "                faces.append(color_to_face[color])\n",
    "    cube_str = ''.join(faces)\n",
    "    if len(cube_str) != 54:\n",
    "        raise ValueError(\"Invalid cube string length: {}\".format(len(cube_str)))\n",
    "    return cube_str\n"
   ]
  },
  {
   "cell_type": "code",
   "execution_count": 6,
   "id": "0fc4187d-0a06-482c-9398-4e06c08e7649",
   "metadata": {},
   "outputs": [
    {
     "name": "stdout",
     "output_type": "stream",
     "text": [
      "Cube string: DDRDDFDDFLLDBLLDLLFFUFFDFFFUULUUUUUUBRRRRRRRRBLLBBBBBB\n",
      "Counts: {'U': 9, 'R': 9, 'F': 9, 'D': 9, 'L': 9, 'B': 9}\n",
      "Solution: U R U' R U2 F2 B2 D2 F2 B2 R2 F2 B2\n"
     ]
    }
   ],
   "source": [
    "# Create cube\n",
    "cube = pc.Cube()\n",
    "\n",
    "# Scramble example\n",
    "scramble_seq = \"R U R' U'\"\n",
    "cube(scramble_seq)\n",
    "\n",
    "# Convert cube state\n",
    "cube_str = cube_to_kociemba_string(cube)\n",
    "print(\"Cube string:\", cube_str)\n",
    "print(\"Counts:\", {ch: cube_str.count(ch) for ch in \"URFDLB\"})\n",
    "\n",
    "# Solve\n",
    "solution = kociemba.solve(cube_str)\n",
    "print(\"Solution:\", solution)\n",
    "\n"
   ]
  },
  {
   "cell_type": "code",
   "execution_count": null,
   "id": "3320b59f-12fc-4cdd-a7fd-8fa6bb3724e4",
   "metadata": {},
   "outputs": [],
   "source": []
  }
 ],
 "metadata": {
  "kernelspec": {
   "display_name": "Python 3 (ipykernel)",
   "language": "python",
   "name": "python3"
  },
  "language_info": {
   "codemirror_mode": {
    "name": "ipython",
    "version": 3
   },
   "file_extension": ".py",
   "mimetype": "text/x-python",
   "name": "python",
   "nbconvert_exporter": "python",
   "pygments_lexer": "ipython3",
   "version": "3.11.7"
  },
  "widgets": {
   "application/vnd.jupyter.widget-state+json": {
    "state": {},
    "version_major": 2,
    "version_minor": 0
   }
  }
 },
 "nbformat": 4,
 "nbformat_minor": 5
}
